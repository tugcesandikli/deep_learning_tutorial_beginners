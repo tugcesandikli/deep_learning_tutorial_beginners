{
 "cells": [
  {
   "cell_type": "markdown",
   "id": "eaead510",
   "metadata": {
    "papermill": {
     "duration": 0.016785,
     "end_time": "2024-07-24T16:47:06.048005",
     "exception": false,
     "start_time": "2024-07-24T16:47:06.031220",
     "status": "completed"
    },
    "tags": []
   },
   "source": [
    "* * ****<font color='blue'>\n",
    "**Welcome to Deep Learning Tutorial for Beginners** \n",
    "* I am going to explain <u>every thing</u> one by one.\n",
    "* Instead of writing long and hard for reading paragraphs, I define and emphasize keywords line by line.\n",
    "* At the end of this tutorial, you will have enough information about deep learning to go deeper inside it.\n",
    "* Lets look at content.\n",
    "\n",
    "<font color='purple'>\n",
    "<br>Content:\n",
    "* [Introduction](#1)\n",
    "* [Overview the Data Set](#2)\n",
    "* [Logistic Regression](#3)\n",
    "    * [Computation Graph](#4)\n",
    "    * [Initializing parameters](#5)\n",
    "    * [Forward Propagation](#6)\n",
    "        * Sigmoid Function\n",
    "        * Loss(error) Function\n",
    "        * Cost Function\n",
    "    * [Optimization Algorithm with Gradient Descent](#7)\n",
    "        * Backward Propagation\n",
    "        * Updating parameters\n",
    "    * [Logistic Regression with Sklearn](#8)\n",
    "    * [Summary and Questions in Minds](#9)\n",
    "    \n",
    "* [Artificial Neural Network](#10)\n",
    "    * [2-Layer Neural Network](#11)\n",
    "        * [Size of layers and initializing parameters weights and bias](#12)\n",
    "        * [Forward propagation](#13)\n",
    "        * [Loss function and Cost function](#14)\n",
    "        * [Backward propagation](#15)\n",
    "        * [Update Parameters](#16)\n",
    "        * [Prediction with learnt parameters weight and bias](#17)\n",
    "        * [Create Model](#18)\n",
    "    * [L-Layer Neural Network](#19)\n",
    "        * [Implementing with keras library](#22)\n",
    "* Time Series Prediction:\n",
    "* [Artificial Neural Network with Pytorch Library](#23)\n",
    "* [Convolutional Neural Network with Pytorch Library](#24)\n",
    "* [Recurrent Neural Network with Pytorch Library](#25)\n",
    "* [Conclusion](#20)\n"
   ]
  },
  {
   "cell_type": "markdown",
   "id": "9a1e64e9",
   "metadata": {
    "papermill": {
     "duration": 0.017535,
     "end_time": "2024-07-24T16:47:06.082537",
     "exception": false,
     "start_time": "2024-07-24T16:47:06.065002",
     "status": "completed"
    },
    "tags": []
   },
   "source": [
    "<a id=\"1\"></a> <br>\n",
    "# INTRODUCTION\n",
    "* **Deep learning:** One of the machine learning technique that learns features directly from data. \n",
    "* **Why deep learning:** When the amounth of data is increased, machine learning techniques are insufficient in terms of performance and deep learning gives better performance like accuracy.\n",
    "<a href=\"http://ibb.co/m2bxcc\"><img src=\"http://preview.ibb.co/d3CEOH/1.png\" alt=\"1\" border=\"0\"></a>\n",
    "* **What is amounth of big:** It is hard to answer but intuitively 1 million sample is enough to say \"big amounth of data\"\n",
    "* **Usage fields of deep learning:** Speech recognition, image classification, natural language procession (nlp) or recommendation systems\n",
    "* **What is difference of deep learning from machine learning:** \n",
    "    * Machine learning covers deep learning. \n",
    "    * Features are given machine learning manually.\n",
    "    * On the other hand, deep learning learns features directly from data.\n",
    "<a href=\"http://ibb.co/f8Epqx\"><img src=\"http://preview.ibb.co/hgpNAx/2.png\" alt=\"2\" border=\"0\"></a>\n",
    "\n",
    "<br>Lets look at our data."
   ]
  },
  {
   "cell_type": "code",
   "execution_count": 1,
   "id": "0ad07f17",
   "metadata": {
    "_cell_guid": "b1076dfc-b9ad-4769-8c92-a6c4dae69d19",
    "_uuid": "8f2839f25d086af736a60e9eeb907d3b93b6e0e5",
    "execution": {
     "iopub.execute_input": "2024-07-24T16:47:06.117395Z",
     "iopub.status.busy": "2024-07-24T16:47:06.116972Z",
     "iopub.status.idle": "2024-07-24T16:47:07.147191Z",
     "shell.execute_reply": "2024-07-24T16:47:07.145782Z"
    },
    "papermill": {
     "duration": 1.05097,
     "end_time": "2024-07-24T16:47:07.150106",
     "exception": false,
     "start_time": "2024-07-24T16:47:06.099136",
     "status": "completed"
    },
    "tags": []
   },
   "outputs": [
    {
     "name": "stdout",
     "output_type": "stream",
     "text": [
      "sign-language-digits-dataset\n",
      "\n"
     ]
    }
   ],
   "source": [
    "# This Python 3 environment comes with many helpful analytics libraries installed\n",
    "# It is defined by the kaggle/python docker image: https://github.com/kaggle/docker-python\n",
    "# For example, here's several helpful packages to load in \n",
    "\n",
    "import numpy as np # linear algebra\n",
    "import pandas as pd # data processing, CSV file I/O (e.g. pd.read_csv)\n",
    "import matplotlib.pyplot as plt\n",
    "# Input data files are available in the \"../input/\" directory.\n",
    "# For example, running this (by clicking run or pressing Shift+Enter) will list the files in the input directory\n",
    "# import warnings\n",
    "import warnings\n",
    "# filter warnings\n",
    "warnings.filterwarnings('ignore')\n",
    "from subprocess import check_output\n",
    "print(check_output([\"ls\", \"../input\"]).decode(\"utf8\"))\n",
    "# Any results you write to the current directory are saved as output."
   ]
  },
  {
   "cell_type": "markdown",
   "id": "b985e33b",
   "metadata": {
    "papermill": {
     "duration": 0.016631,
     "end_time": "2024-07-24T16:47:07.184352",
     "exception": false,
     "start_time": "2024-07-24T16:47:07.167721",
     "status": "completed"
    },
    "tags": []
   },
   "source": [
    "<a id=\"Overview the Data Set\"></a> <br>\n",
    "# Overview the Data Set\n",
    "* We will use \"sign language digits data set\" for this tutorial.\n",
    "* In this data there are 2062 sign language digits images.\n",
    "* As you know digits are from 0 to 9. Therefore there are 10 unique sign.\n",
    "* At the beginning of tutorial we will use only sign 0 and 1 for simplicity. \n",
    "* In data, sign zero is between indexes 204 and 408. Number of zero sign is 205.\n",
    "* Also sign one is between indexes 822 and 1027. Number of one sign is 206. Therefore, we will use 205 samples from each classes(labels).\n",
    "* Note: Actually 205 sample is very very very little for deep learning. But this is tutorial so it does not matter so much. \n",
    "* Lets prepare our X and Y arrays. X is image array (zero and one signs) and Y is label array (0 and 1)."
   ]
  },
  {
   "cell_type": "code",
   "execution_count": 2,
   "id": "4490dad5",
   "metadata": {
    "execution": {
     "iopub.execute_input": "2024-07-24T16:47:07.221148Z",
     "iopub.status.busy": "2024-07-24T16:47:07.219875Z",
     "iopub.status.idle": "2024-07-24T16:47:07.773082Z",
     "shell.execute_reply": "2024-07-24T16:47:07.771563Z"
    },
    "papermill": {
     "duration": 0.576469,
     "end_time": "2024-07-24T16:47:07.778244",
     "exception": false,
     "start_time": "2024-07-24T16:47:07.201775",
     "status": "completed"
    },
    "tags": []
   },
   "outputs": [
    {
     "data": {
      "text/plain": [
       "(-0.5, 63.5, 63.5, -0.5)"
      ]
     },
     "execution_count": 2,
     "metadata": {},
     "output_type": "execute_result"
    },
    {
     "data": {
      "image/png": "[encoded data removed]",
      "text/plain": [
       "<Figure size 640x480 with 2 Axes>"
      ]
     },
     "metadata": {},
     "output_type": "display_data"
    }
   ],
   "source": [
    "# load data set\n",
    "x_l = np.load(\"/kaggle/input/sign-language-digits-dataset/X.npy\")\n",
    "y_l = np.load(\"/kaggle/input/sign-language-digits-dataset/Y.npy\")\n",
    "img_size = 64\n",
    "plt.subplot(1, 2, 1)\n",
    "plt.imshow(x_l[260].reshape(img_size, img_size))\n",
    "plt.axis('off')\n",
    "plt.subplot(1, 2, 2)\n",
    "plt.imshow(x_l[900].reshape(img_size, img_size))\n",
    "plt.axis('off')"
   ]
  },
  {
   "cell_type": "markdown",
   "id": "4d0ab248",
   "metadata": {
    "papermill": {
     "duration": 0.035209,
     "end_time": "2024-07-24T16:47:07.850193",
     "exception": false,
     "start_time": "2024-07-24T16:47:07.814984",
     "status": "completed"
    },
    "tags": []
   },
   "source": [
    "* In order to create image array, I concatenate zero sign and one sign arrays\n",
    "* Then I create label array 0 for zero sign images and 1 for one sign images."
   ]
  },
  {
   "cell_type": "code",
   "execution_count": 3,
   "id": "4c2108c1",
   "metadata": {
    "execution": {
     "iopub.execute_input": "2024-07-24T16:47:07.891318Z",
     "iopub.status.busy": "2024-07-24T16:47:07.890850Z",
     "iopub.status.idle": "2024-07-24T16:47:07.903121Z",
     "shell.execute_reply": "2024-07-24T16:47:07.901225Z"
    },
    "papermill": {
     "duration": 0.033725,
     "end_time": "2024-07-24T16:47:07.905664",
     "exception": false,
     "start_time": "2024-07-24T16:47:07.871939",
     "status": "completed"
    },
    "tags": []
   },
   "outputs": [
    {
     "name": "stdout",
     "output_type": "stream",
     "text": [
      "X shape:  (410, 64, 64)\n",
      "Y shape:  (410, 1)\n"
     ]
    }
   ],
   "source": [
    "# Join a sequence of arrays along an row axis\n",
    "X = np.concatenate((x_l[204:409], x_l[822:1027]), axis=0) # from 0 to 204 is zero sign and from 205 to 410 is one sign\n",
    "z = np.zeros(205)\n",
    "o = np.ones(205)\n",
    "Y = np.concatenate((z,o), axis=0).reshape(X.shape[0],1)\n",
    "print(\"X shape: \", X.shape)\n",
    "print(\"Y shape: \", Y.shape)"
   ]
  },
  {
   "cell_type": "markdown",
   "id": "45536bfd",
   "metadata": {
    "papermill": {
     "duration": 0.017565,
     "end_time": "2024-07-24T16:47:07.940930",
     "exception": false,
     "start_time": "2024-07-24T16:47:07.923365",
     "status": "completed"
    },
    "tags": []
   },
   "source": [
    "* The shape of the X is (410, 64, 64)\n",
    "    * 410 means that we have 410 images (zero and one signs)\n",
    "    * 64 means that our image size is 64x64 (64x64 pixels)\n",
    "* The shape of the Y is (410,1)\n",
    "    *  410 means that we have 410 labels (0 and 1) \n",
    "* Lets split X and Y into train and test sets.\n",
    "    * test_size = percentage of test size. test = 15% and train = 75%\n",
    "    * random_state = use same seed while randomizing. It means that if we call train_test_split repeatedly, it always creates same train and test distribution because we have same random_state."
   ]
  },
  {
   "cell_type": "code",
   "execution_count": 4,
   "id": "5b3fcef3",
   "metadata": {
    "execution": {
     "iopub.execute_input": "2024-07-24T16:47:07.978195Z",
     "iopub.status.busy": "2024-07-24T16:47:07.977737Z",
     "iopub.status.idle": "2024-07-24T16:47:09.444109Z",
     "shell.execute_reply": "2024-07-24T16:47:09.442772Z"
    },
    "papermill": {
     "duration": 1.48842,
     "end_time": "2024-07-24T16:47:09.447112",
     "exception": false,
     "start_time": "2024-07-24T16:47:07.958692",
     "status": "completed"
    },
    "tags": []
   },
   "outputs": [],
   "source": [
    "# Then lets create x_train, y_train, x_test, y_test arrays\n",
    "from sklearn.model_selection import train_test_split\n",
    "X_train, X_test, Y_train, Y_test = train_test_split(X, Y, test_size=0.15, random_state=42)\n",
    "number_of_train = X_train.shape[0]\n",
    "number_of_test = X_test.shape[0]"
   ]
  },
  {
   "cell_type": "markdown",
   "id": "321b7fd9",
   "metadata": {
    "papermill": {
     "duration": 0.016909,
     "end_time": "2024-07-24T16:47:09.481246",
     "exception": false,
     "start_time": "2024-07-24T16:47:09.464337",
     "status": "completed"
    },
    "tags": []
   },
   "source": [
    "* Now we have 3 dimensional input array (X) so we need to make it flatten (2D) in order to use as input for our first deep learning model.\n",
    "* Our label array (Y) is already flatten(2D) so we leave it like that.\n",
    "* Lets flatten X array(images array).\n"
   ]
  },
  {
   "cell_type": "code",
   "execution_count": 5,
   "id": "4bb13930",
   "metadata": {
    "execution": {
     "iopub.execute_input": "2024-07-24T16:47:09.517864Z",
     "iopub.status.busy": "2024-07-24T16:47:09.517398Z",
     "iopub.status.idle": "2024-07-24T16:47:09.524568Z",
     "shell.execute_reply": "2024-07-24T16:47:09.523481Z"
    },
    "papermill": {
     "duration": 0.029027,
     "end_time": "2024-07-24T16:47:09.527745",
     "exception": false,
     "start_time": "2024-07-24T16:47:09.498718",
     "status": "completed"
    },
    "tags": []
   },
   "outputs": [
    {
     "name": "stdout",
     "output_type": "stream",
     "text": [
      "X_train_flatten: (348, 4096)\n",
      "X_test_flatten: (62, 4096)\n"
     ]
    }
   ],
   "source": [
    "X_train_flatten = X_train.reshape(number_of_train, X_train.shape[1]*X_train.shape[2])\n",
    "X_test_flatten = X_test.reshape(number_of_test, X_test.shape[1]*X_test.shape[2])\n",
    "print(\"X_train_flatten:\", X_train_flatten.shape)\n",
    "print(\"X_test_flatten:\", X_test_flatten.shape)"
   ]
  },
  {
   "cell_type": "markdown",
   "id": "431c1fa2",
   "metadata": {
    "papermill": {
     "duration": 0.017659,
     "end_time": "2024-07-24T16:47:09.563262",
     "exception": false,
     "start_time": "2024-07-24T16:47:09.545603",
     "status": "completed"
    },
    "tags": []
   },
   "source": [
    "* As you can see, we have 348 images and each image has 4096 pixels in image train array.\n",
    "* Also, we have 62 images and each image has 4096 pixels in image test array.\n",
    "* Then lets take transpose. You can say that WHYY, actually there is no technical answer. I just write the code(code that you will see oncoming parts) according to it :)"
   ]
  },
  {
   "cell_type": "code",
   "execution_count": 6,
   "id": "01e30df3",
   "metadata": {
    "execution": {
     "iopub.execute_input": "2024-07-24T16:47:09.600528Z",
     "iopub.status.busy": "2024-07-24T16:47:09.600014Z",
     "iopub.status.idle": "2024-07-24T16:47:09.608050Z",
     "shell.execute_reply": "2024-07-24T16:47:09.606702Z"
    },
    "papermill": {
     "duration": 0.030184,
     "end_time": "2024-07-24T16:47:09.611192",
     "exception": false,
     "start_time": "2024-07-24T16:47:09.581008",
     "status": "completed"
    },
    "tags": []
   },
   "outputs": [
    {
     "name": "stdout",
     "output_type": "stream",
     "text": [
      "x train:  (4096, 348)\n",
      "x test:  (4096, 62)\n",
      "y train:  (1, 348)\n",
      "y test:  (1, 62)\n"
     ]
    }
   ],
   "source": [
    "x_train = X_train_flatten.T\n",
    "x_test = X_test_flatten.T\n",
    "y_train = Y_train.T\n",
    "y_test = Y_test.T\n",
    "print(\"x train: \",x_train.shape)\n",
    "print(\"x test: \",x_test.shape)\n",
    "print(\"y train: \",y_train.shape)\n",
    "print(\"y test: \",y_test.shape)"
   ]
  },
  {
   "cell_type": "markdown",
   "id": "be5d755a",
   "metadata": {
    "papermill": {
     "duration": 0.018072,
     "end_time": "2024-07-24T16:47:09.647769",
     "exception": false,
     "start_time": "2024-07-24T16:47:09.629697",
     "status": "completed"
    },
    "tags": []
   },
   "source": [
    "<font color='purple'>\n",
    "What we did up to this point:\n",
    "* Choose our labels (classes) that are sign zero and sign one\n",
    "* Create and flatten train and test sets\n",
    "* Our final inputs(images) and outputs(labels or classes) looks like this:\n",
    "<a href=\"http://ibb.co/bWMK7c\"><img src=\"http://image.ibb.co/fOqCSc/3.png\" alt=\"3\" border=\"0\"></a>"
   ]
  },
  {
   "cell_type": "markdown",
   "id": "ceefa6c0",
   "metadata": {
    "papermill": {
     "duration": 0.01802,
     "end_time": "2024-07-24T16:47:09.684149",
     "exception": false,
     "start_time": "2024-07-24T16:47:09.666129",
     "status": "completed"
    },
    "tags": []
   },
   "source": [
    "<a id=\"3\"></a> <br>\n",
    "# Logistic Regression\n",
    "* When we talk about binary classification( 0 and 1 outputs) what comes to mind first is logistic regression.\n",
    "* However, in deep learning tutorial what to do with logistic regression there??\n",
    "* The answer is that  logistic regression is actually a very simple neural network. \n",
    "* By the way neural network and deep learning are same thing. When we will come artificial neural network, I will explain detailed the terms like \"deep\".\n",
    "* In order to understand logistic regression (simple deep learning) lets first learn computation graph."
   ]
  },
  {
   "cell_type": "markdown",
   "id": "0c8e3d6a",
   "metadata": {
    "papermill": {
     "duration": 0.017225,
     "end_time": "2024-07-24T16:47:09.718885",
     "exception": false,
     "start_time": "2024-07-24T16:47:09.701660",
     "status": "completed"
    },
    "tags": []
   },
   "source": [
    "<a id=\"4\"></a> <br>\n",
    "##  Computation Graph\n",
    "* Computation graphs are a nice way to think about mathematical expressions.\n",
    "* It is like visualization of  mathematical expressions.\n",
    "* For example we have $$c = \\sqrt{a^2 + b^2}$$\n",
    "* It's computational graph is this. As you can see we express math with graph.\n",
    "<a href=\"http://imgbb.com/\"><img src=\"http://image.ibb.co/hWn6Lx/d.jpg\" alt=\"d\" border=\"0\"></a>"
   ]
  },
  {
   "cell_type": "markdown",
   "id": "a56a14c1",
   "metadata": {
    "papermill": {
     "duration": 0.017236,
     "end_time": "2024-07-24T16:47:09.753877",
     "exception": false,
     "start_time": "2024-07-24T16:47:09.736641",
     "status": "completed"
    },
    "tags": []
   },
   "source": [
    "* Now lets look at computation graph of logistic regression\n",
    "<a href=\"http://ibb.co/c574qx\"><img src=\"http://preview.ibb.co/cxP63H/5.jpg\" alt=\"5\" border=\"0\"></a>\n",
    "    * Parameters are weight and bias.\n",
    "    * Weights: coefficients of each pixels\n",
    "    * Bias: intercept\n",
    "    * z = (w.t)x + b  => z equals to (transpose of weights times input x) + bias \n",
    "    * In an other saying => z = b + px1*w1 + px2*w2 + ... + px4096*w4096\n",
    "    * y_head = sigmoid(z)\n",
    "    * Sigmoid function makes z between zero and one so that is probability. You can see sigmoid function in computation graph.\n",
    "* Why we use sigmoid function?\n",
    "    * It gives probabilistic result\n",
    "    * It is derivative so we can use it in gradient descent algorithm (we will see as soon.)\n",
    "* Lets make example:\n",
    "    * Lets say we find z = 4 and put z into sigmoid function. The result(y_head) is almost 0.9. It means that our classification result is 1 with 90% probability.\n",
    "* Now lets start with from beginning and examine each component of computation graph more detailed."
   ]
  },
  {
   "cell_type": "markdown",
   "id": "20f69453",
   "metadata": {
    "papermill": {
     "duration": 0.017152,
     "end_time": "2024-07-24T16:47:09.788683",
     "exception": false,
     "start_time": "2024-07-24T16:47:09.771531",
     "status": "completed"
    },
    "tags": []
   },
   "source": [
    "<a id=\"5\"></a> <br>\n",
    "## Initializing parameters\n",
    "* As you know input is our images that has 4096 pixels(each image in x_train).\n",
    "* Each pixels have own weights.\n",
    "* The first step is multiplying each pixels with their own weights.\n",
    "* The question is that what is the initial value of weights?\n",
    "    * There are some techniques that I will explain at artificial neural network but for this time initial weights are 0.01.\n",
    "    * Okey, weights are 0.01 but what is the weight array shape? As you understand from computation graph of logistic regression, it is (4096,1)\n",
    "    * Also initial bias is 0.\n",
    "* Lets write some code. In order to use at coming topics like artificial neural network (ANN), I make definition(method)."
   ]
  },
  {
   "cell_type": "code",
   "execution_count": 7,
   "id": "b5992653",
   "metadata": {
    "execution": {
     "iopub.execute_input": "2024-07-24T16:47:09.826500Z",
     "iopub.status.busy": "2024-07-24T16:47:09.826006Z",
     "iopub.status.idle": "2024-07-24T16:47:09.832499Z",
     "shell.execute_reply": "2024-07-24T16:47:09.830906Z"
    },
    "papermill": {
     "duration": 0.029617,
     "end_time": "2024-07-24T16:47:09.836401",
     "exception": false,
     "start_time": "2024-07-24T16:47:09.806784",
     "status": "completed"
    },
    "tags": []
   },
   "outputs": [],
   "source": [
    "# lets initialize parameters\n",
    "# So what we need is dimension 4096 that is number of pixels as a parameter for our initialize method(def)\n",
    "def initialize_weights_and_bias(dimension):\n",
    "    w = np.full((dimension,1), 0.01)\n",
    "    b = 0.01\n",
    "    return w,b"
   ]
  },
  {
   "cell_type": "code",
   "execution_count": 8,
   "id": "6370819c",
   "metadata": {
    "execution": {
     "iopub.execute_input": "2024-07-24T16:47:09.873845Z",
     "iopub.status.busy": "2024-07-24T16:47:09.873414Z",
     "iopub.status.idle": "2024-07-24T16:47:09.878487Z",
     "shell.execute_reply": "2024-07-24T16:47:09.877265Z"
    },
    "papermill": {
     "duration": 0.026348,
     "end_time": "2024-07-24T16:47:09.880997",
     "exception": false,
     "start_time": "2024-07-24T16:47:09.854649",
     "status": "completed"
    },
    "tags": []
   },
   "outputs": [],
   "source": [
    "#w,b = initialize_weights_and_bias(4096)"
   ]
  },
  {
   "cell_type": "markdown",
   "id": "71dc820a",
   "metadata": {
    "papermill": {
     "duration": 0.018243,
     "end_time": "2024-07-24T16:47:09.917066",
     "exception": false,
     "start_time": "2024-07-24T16:47:09.898823",
     "status": "completed"
    },
    "tags": []
   },
   "source": [
    "<a id=\"6\"></a> <br>\n",
    "## Forward Propagation\n",
    "* The all steps from pixels to cost is called forward propagation\n",
    "    * z = (w.T)x + b => in this equation we know x that is pixel array, we know w (weights) and b (bias) so the rest is calculation. (T is transpose)\n",
    "    * Then we put z into sigmoid function that returns y_head(probability). When your mind is confused go and look at computation graph. Also equation of sigmoid function is in computation graph.\n",
    "    * Then we calculate loss(error) function. \n",
    "    * Cost function is summation of all loss(error).\n",
    "    * Lets start with z and the write sigmoid definition(method) that takes z as input parameter and returns y_head(probability)"
   ]
  },
  {
   "cell_type": "code",
   "execution_count": 9,
   "id": "7a38ee2c",
   "metadata": {
    "execution": {
     "iopub.execute_input": "2024-07-24T16:47:09.954960Z",
     "iopub.status.busy": "2024-07-24T16:47:09.954549Z",
     "iopub.status.idle": "2024-07-24T16:47:09.960614Z",
     "shell.execute_reply": "2024-07-24T16:47:09.959311Z"
    },
    "papermill": {
     "duration": 0.027461,
     "end_time": "2024-07-24T16:47:09.963096",
     "exception": false,
     "start_time": "2024-07-24T16:47:09.935635",
     "status": "completed"
    },
    "tags": []
   },
   "outputs": [],
   "source": [
    "# calculation of z\n",
    "# z = np.dot(w.T,x_train)+b\n",
    "def sigmoid(z):\n",
    "    y_head = 1/(1+np.exp(-z))\n",
    "    return y_head"
   ]
  },
  {
   "cell_type": "code",
   "execution_count": 10,
   "id": "5f8dfc60",
   "metadata": {
    "execution": {
     "iopub.execute_input": "2024-07-24T16:47:10.064895Z",
     "iopub.status.busy": "2024-07-24T16:47:10.063860Z",
     "iopub.status.idle": "2024-07-24T16:47:10.071965Z",
     "shell.execute_reply": "2024-07-24T16:47:10.070820Z"
    },
    "papermill": {
     "duration": 0.093654,
     "end_time": "2024-07-24T16:47:10.074593",
     "exception": false,
     "start_time": "2024-07-24T16:47:09.980939",
     "status": "completed"
    },
    "tags": []
   },
   "outputs": [
    {
     "data": {
      "text/plain": [
       "0.5"
      ]
     },
     "execution_count": 10,
     "metadata": {},
     "output_type": "execute_result"
    }
   ],
   "source": [
    "y_head = sigmoid(0)\n",
    "y_head"
   ]
  },
  {
   "cell_type": "markdown",
   "id": "c912d41d",
   "metadata": {
    "papermill": {
     "duration": 0.01821,
     "end_time": "2024-07-24T16:47:10.110494",
     "exception": false,
     "start_time": "2024-07-24T16:47:10.092284",
     "status": "completed"
    },
    "tags": []
   },
   "source": [
    "* As we write sigmoid method and calculate y_head. Lets learn what is loss(error) function\n",
    "* Lets make example, I put one image as input then multiply it with their weights and add bias term so I find z. Then put z into sigmoid method so I find y_head. Up to this point we know what we did. Then e.g y_head became 0.9 that is bigger than 0.5 so our prediction is image is sign one image. Okey every thing looks like fine. But, is our prediction is correct and how do we check whether it is correct or not? The answer is with loss(error) function:\n",
    "    * Mathematical expression of log loss(error) function is that: \n",
    "    <a href=\"https://imgbb.com/\"><img src=\"https://image.ibb.co/eC0JCK/duzeltme.jpg\" alt=\"duzeltme\" border=\"0\"></a>\n",
    "    * It says that if you make wrong prediction, loss(error) becomes big. **DENKLEM DUZELTME**\n",
    "        * Example: our real image is sign one and its label is 1 (y = 1), then we make prediction y_head = 1. When we put y and y_head into loss(error) equation the result is 0. We make correct prediction therefore our loss is 0. However, if we make wrong prediction like y_head = 0, loss(error) is infinity.\n",
    "* After that, the cost function is summation of loss function. Each image creates loss function. Cost function is summation of loss functions that is created by each input image.\n",
    "* Lets implement forward propagation.\n"
   ]
  },
  {
   "cell_type": "code",
   "execution_count": 11,
   "id": "470950b4",
   "metadata": {
    "execution": {
     "iopub.execute_input": "2024-07-24T16:47:10.148717Z",
     "iopub.status.busy": "2024-07-24T16:47:10.147682Z",
     "iopub.status.idle": "2024-07-24T16:47:10.155194Z",
     "shell.execute_reply": "2024-07-24T16:47:10.153903Z"
    },
    "papermill": {
     "duration": 0.02954,
     "end_time": "2024-07-24T16:47:10.157790",
     "exception": false,
     "start_time": "2024-07-24T16:47:10.128250",
     "status": "completed"
    },
    "tags": []
   },
   "outputs": [],
   "source": [
    "# Forward propagation steps:\n",
    "# find z = w.T*x+b\n",
    "# y_head = sigmoid(z)\n",
    "# loss(error) = loss(y,y_head)\n",
    "# cost = sum(loss)\n",
    "def forward_propagation(w,b,x_train,y_train):\n",
    "    z = np.dot(w.T,x_train) + b\n",
    "    y_head = sigmoid(z) # probabilistic 0-1\n",
    "    loss = -y_train*np.log(y_head)-(1-y_train)*np.log(1-y_head)\n",
    "    cost = (np.sum(loss))/x_train.shape[1]      # x_train.shape[1]  is for scaling\n",
    "    return cost "
   ]
  },
  {
   "cell_type": "markdown",
   "id": "f25e646e",
   "metadata": {
    "papermill": {
     "duration": 0.017848,
     "end_time": "2024-07-24T16:47:10.193383",
     "exception": false,
     "start_time": "2024-07-24T16:47:10.175535",
     "status": "completed"
    },
    "tags": []
   },
   "source": [
    "<a id=\"7\"></a> <br>\n",
    "##  Optimization Algorithm with Gradient Descent\n",
    "* Well, now we know what is our cost that is error.\n",
    "* Therefore, we need to decrease cost because as we know if cost is high it means that we make wrong prediction.\n",
    "* Lets think first step, every thing starts with initializing weights and bias. Therefore cost is dependent with them.\n",
    "* In order to decrease cost, we need to update weights and bias.\n",
    "* In other words, our model needs to learn the parameters weights and bias that minimize cost function. This technique is called gradient descent.\n",
    "* Lets make an example:\n",
    "    * We have w = 5 and bias = 0 (so ignore bias for now). Then we make forward propagation and our cost function is 1.5.\n",
    "    * It looks like this. (red lines)\n",
    "    <a href=\"http://imgbb.com/\"><img src=\"http://image.ibb.co/dAaYJH/7.jpg\" alt=\"7\" border=\"0\"></a>\n",
    "    * As you can see from graph, we are not at minimum point of cost function. Therefore we need to go through minimum cost. Okey, lets update weight. ( the symbol := is updating)\n",
    "    * w := w - step. The question is what is this step? Step is slope1. Okey, it looks remarkable. In order to find minimum point, we can use slope1. Then lets say slope1 = 3 and update our weight. w := w - slope1 => w = 2.\n",
    "    * Now, our weight w is 2. As you remember, we need to find cost function with forward propagation again. \n",
    "    * Lets say according to forward propagation with w = 2, cost function is 0.4. Hmm, we are at right way because our cost function is decrease. We have new value for cost function that is cost = 0.4. Is that enough? Actually I do not know lets try one more step.\n",
    "    * Slope2 = 0.7 and w = 2. Lets update weight w : = w - step(slope2) => w = 1.3 that is new weight. So lets find new cost.\n",
    "    * Make one more forward propagation with w = 1.3 and our cost = 0.3. Okey, our cost even decreased, it looks like fine but is it enough or do we need to make one more step? The answer is again I do not know, lets try.\n",
    "    * Slope3 = 0.01 and w = 1.3. Updating weight w := w - step(slope3) => w = 1.29 ~ 1.3. So weight does not change because we find minimum point of cost function. \n",
    "    * Everything looks like good but how we find slope? If you remember from high school or university, in order to find slope of function(cost function) at given point(at given weight) we take derivative of function at given point. Also you can ask that okey well we find slope but how it knows where it go. You can say that it can go more higher cost values instead of going minimum point. The asnwer is that slope(derivative) gives both step and direction of step. Therefore do not worry :)\n",
    "    * Updateç equation is this. It says that there is a cost function(takes weight and bias). Take derivative of cost function according to weight and bias. Then multiply it with  α learning rate. Then update weight. (In order to explain I ignore bias but these all steps will be applied for bias)\n",
    "    <a href=\"http://imgbb.com/\"><img src=\"http://image.ibb.co/hYTTJH/8.jpg\" alt=\"8\" border=\"0\"></a>\n",
    "    * Now, I am sure you are asking what is learning rate that I mentioned never. It is very simple term that determines learning rate. Hovewer there is tradeoff between learning fast and never learning. For example you are at Paris(current cost) and want to go Madrid(minimum cost). If your speed(learning rate) is small, you can go Madrid very slowly and it takes too long time. On ther other hand, if your speed(learning rate) is big, you can go very fast but maybe you make crash and never go to Madrid. Therefore, we need to choose wisely our speed(learning rate).\n",
    "    * Learning rate is also called hyperparameter that need to be chosen and tuned. I will explain it more detailed in artificial neural network with other hyperparameters. For now just say learning rate is 1 for our previous example.\n",
    "  \n",
    "* I think now you understand the logic behind forward propagation(from weights and bias to cost) and backward propagation(from cost to weights and bias to update them). Also you learn gradient descent. Before implementing the code you need to learn one more thing that is how we take derivative of cost function according to weights and bias. It is not related with python or coding. It is pure mathematic. There are two option first one is to google how to take derivative of log loss function and second one is even to google what is derivative of log loss function :) I choose second one because I cannot explain math without talking :) \n",
    "$$ \\frac{\\partial J}{\\partial w} = \\frac{1}{m}x(  y_head - y)^T$$\n",
    "$$ \\frac{\\partial J}{\\partial b} = \\frac{1}{m} \\sum_{i=1}^m (y_head-y)$$"
   ]
  },
  {
   "cell_type": "code",
   "execution_count": 12,
   "id": "77f4ea4e",
   "metadata": {
    "execution": {
     "iopub.execute_input": "2024-07-24T16:47:10.231685Z",
     "iopub.status.busy": "2024-07-24T16:47:10.231238Z",
     "iopub.status.idle": "2024-07-24T16:47:10.240095Z",
     "shell.execute_reply": "2024-07-24T16:47:10.238783Z"
    },
    "papermill": {
     "duration": 0.031363,
     "end_time": "2024-07-24T16:47:10.242531",
     "exception": false,
     "start_time": "2024-07-24T16:47:10.211168",
     "status": "completed"
    },
    "tags": []
   },
   "outputs": [],
   "source": [
    "# In backward propagation we will use y_head that found in forward progation\n",
    "# Therefore instead of writing backward propagation method, lets combine forward propagation and backward propagation\n",
    "def forward_backward_propagation(w,b,x_train,y_train):\n",
    "    # forward propagation\n",
    "    z = np.dot(w.T,x_train) + b\n",
    "    y_head = sigmoid(z)\n",
    "    loss = -y_train*np.log(y_head)-(1-y_train)*np.log(1-y_head)\n",
    "    cost = (np.sum(loss))/x_train.shape[1]      # x_train.shape[1]  is for scaling\n",
    "    # backward propagation\n",
    "    derivative_weight = (np.dot(x_train,((y_head-y_train).T)))/x_train.shape[1] # x_train.shape[1]  is for scaling\n",
    "    derivative_bias = np.sum(y_head-y_train)/x_train.shape[1]                 # x_train.shape[1]  is for scaling\n",
    "    gradients = {\"derivative_weight\": derivative_weight,\"derivative_bias\": derivative_bias}\n",
    "    return cost,gradients"
   ]
  },
  {
   "cell_type": "markdown",
   "id": "3a9a2a22",
   "metadata": {
    "papermill": {
     "duration": 0.017571,
     "end_time": "2024-07-24T16:47:10.278513",
     "exception": false,
     "start_time": "2024-07-24T16:47:10.260942",
     "status": "completed"
    },
    "tags": []
   },
   "source": [
    "* Up to this point we learn \n",
    "    * Initializing parameters (implemented)\n",
    "    * Finding cost with forward propagation and cost function (implemented)\n",
    "    * Updating(learning) parameters (weight and bias). Now lets implement it."
   ]
  },
  {
   "cell_type": "code",
   "execution_count": 13,
   "id": "59574661",
   "metadata": {
    "execution": {
     "iopub.execute_input": "2024-07-24T16:47:10.317323Z",
     "iopub.status.busy": "2024-07-24T16:47:10.316899Z",
     "iopub.status.idle": "2024-07-24T16:47:10.327588Z",
     "shell.execute_reply": "2024-07-24T16:47:10.326351Z"
    },
    "papermill": {
     "duration": 0.034059,
     "end_time": "2024-07-24T16:47:10.330230",
     "exception": false,
     "start_time": "2024-07-24T16:47:10.296171",
     "status": "completed"
    },
    "tags": []
   },
   "outputs": [],
   "source": [
    "# Updating(learning) parameters\n",
    "def update(w, b, x_train, y_train, learning_rate,number_of_iterarion):\n",
    "    cost_list = [] \n",
    "    cost_list2 = []\n",
    "    index = []\n",
    "    # updating(learning) parameters is number_of_iterarion times\n",
    "    for i in range(number_of_iterarion):\n",
    "        # make forward and backward propagation and find cost and gradients\n",
    "        cost,gradients = forward_backward_propagation(w,b,x_train,y_train)\n",
    "        cost_list.append(cost)\n",
    "        # lets update\n",
    "        w = w - learning_rate * gradients[\"derivative_weight\"]\n",
    "        b = b - learning_rate * gradients[\"derivative_bias\"]\n",
    "        if i % 10 == 0:\n",
    "            cost_list2.append(cost)\n",
    "            index.append(i)\n",
    "            print (\"Cost after iteration %i: %f\" %(i, cost))\n",
    "    # we update(learn) parameters weights and bias\n",
    "    parameters = {\"weight\": w,\"bias\": b}\n",
    "    plt.plot(index,cost_list2)\n",
    "    plt.xticks(index,rotation='vertical')\n",
    "    plt.xlabel(\"Number of Iterarion\")\n",
    "    plt.ylabel(\"Cost\")\n",
    "    plt.show()\n",
    "    return parameters, gradients, cost_list\n",
    "#parameters, gradients, cost_list = update(w, b, x_train, y_train, learning_rate = 0.009,number_of_iterarion = 200)"
   ]
  },
  {
   "cell_type": "markdown",
   "id": "32609d0a",
   "metadata": {
    "papermill": {
     "duration": 0.017966,
     "end_time": "2024-07-24T16:47:10.366513",
     "exception": false,
     "start_time": "2024-07-24T16:47:10.348547",
     "status": "completed"
    },
    "tags": []
   },
   "source": [
    "* Up to this point we learn our parameters. It means we fit the data. \n",
    "* In order to predict we have parameters. Therefore, lets predict.\n",
    "* In prediction step we have x_test as a input and while using it, we make forward prediction.\n"
   ]
  },
  {
   "cell_type": "code",
   "execution_count": 14,
   "id": "decf0a7f",
   "metadata": {
    "execution": {
     "iopub.execute_input": "2024-07-24T16:47:10.403922Z",
     "iopub.status.busy": "2024-07-24T16:47:10.403544Z",
     "iopub.status.idle": "2024-07-24T16:47:10.411766Z",
     "shell.execute_reply": "2024-07-24T16:47:10.410368Z"
    },
    "papermill": {
     "duration": 0.030167,
     "end_time": "2024-07-24T16:47:10.414760",
     "exception": false,
     "start_time": "2024-07-24T16:47:10.384593",
     "status": "completed"
    },
    "tags": []
   },
   "outputs": [],
   "source": [
    "# prediction\n",
    "def predict(w,b,x_test):\n",
    "    # x_test is a input for forward propagation\n",
    "    z = sigmoid(np.dot(w.T,x_test)+b)\n",
    "    Y_prediction = np.zeros((1,x_test.shape[1]))\n",
    "    # if z is bigger than 0.5, our prediction is sign one (y_head=1),\n",
    "    # if z is smaller than 0.5, our prediction is sign zero (y_head=0),\n",
    "    for i in range(z.shape[1]):\n",
    "        if z[0,i]<= 0.5:\n",
    "            Y_prediction[0,i] = 0\n",
    "        else:\n",
    "            Y_prediction[0,i] = 1\n",
    "\n",
    "    return Y_prediction\n",
    "# predict(parameters[\"weight\"],parameters[\"bias\"],x_test)"
   ]
  },
  {
   "cell_type": "markdown",
   "id": "d3033b7e",
   "metadata": {
    "papermill": {
     "duration": 0.018044,
     "end_time": "2024-07-24T16:47:10.450991",
     "exception": false,
     "start_time": "2024-07-24T16:47:10.432947",
     "status": "completed"
    },
    "tags": []
   },
   "source": [
    "* We make prediction.\n",
    "* Now lets put them all together."
   ]
  },
  {
   "cell_type": "code",
   "execution_count": 15,
   "id": "2492964d",
   "metadata": {
    "execution": {
     "iopub.execute_input": "2024-07-24T16:47:10.488896Z",
     "iopub.status.busy": "2024-07-24T16:47:10.488504Z",
     "iopub.status.idle": "2024-07-24T16:47:11.930264Z",
     "shell.execute_reply": "2024-07-24T16:47:11.928596Z"
    },
    "papermill": {
     "duration": 1.465403,
     "end_time": "2024-07-24T16:47:11.934496",
     "exception": false,
     "start_time": "2024-07-24T16:47:10.469093",
     "status": "completed"
    },
    "tags": []
   },
   "outputs": [
    {
     "name": "stdout",
     "output_type": "stream",
     "text": [
      "Cost after iteration 0: 14.018983\n",
      "Cost after iteration 10: 2.540547\n",
      "Cost after iteration 20: 2.577538\n",
      "Cost after iteration 30: 2.397975\n",
      "Cost after iteration 40: 2.185017\n",
      "Cost after iteration 50: 1.968350\n",
      "Cost after iteration 60: 1.754203\n",
      "Cost after iteration 70: 1.535094\n",
      "Cost after iteration 80: 1.297594\n",
      "Cost after iteration 90: 1.031960\n",
      "Cost after iteration 100: 0.737067\n",
      "Cost after iteration 110: 0.441368\n",
      "Cost after iteration 120: 0.252255\n",
      "Cost after iteration 130: 0.205162\n",
      "Cost after iteration 140: 0.196167\n"
     ]
    },
    {
     "data": {
      "image/png": "[encoded data removed]",
      "text/plain": [
       "<Figure size 640x480 with 1 Axes>"
      ]
     },
     "metadata": {},
     "output_type": "display_data"
    },
    {
     "name": "stdout",
     "output_type": "stream",
     "text": [
      "train accuracy: 92.816091954023 %\n",
      "test accuracy: 93.54838709677419 %\n"
     ]
    }
   ],
   "source": [
    "def logistic_regression(x_train, y_train, x_test, y_test, learning_rate ,  num_iterations):\n",
    "    # initialize\n",
    "    dimension =  x_train.shape[0]  # that is 4096\n",
    "    w,b = initialize_weights_and_bias(dimension)\n",
    "    # do not change learning rate\n",
    "    parameters, gradients, cost_list = update(w, b, x_train, y_train, learning_rate,num_iterations)\n",
    "    \n",
    "    y_prediction_test = predict(parameters[\"weight\"],parameters[\"bias\"],x_test)\n",
    "    y_prediction_train = predict(parameters[\"weight\"],parameters[\"bias\"],x_train)\n",
    "\n",
    "    # Print train/test Errors\n",
    "    print(\"train accuracy: {} %\".format(100 - np.mean(np.abs(y_prediction_train - y_train)) * 100))\n",
    "    print(\"test accuracy: {} %\".format(100 - np.mean(np.abs(y_prediction_test - y_test)) * 100))\n",
    "    \n",
    "logistic_regression(x_train, y_train, x_test, y_test,learning_rate = 0.01, num_iterations = 150)"
   ]
  },
  {
   "cell_type": "markdown",
   "id": "e59fcea9",
   "metadata": {
    "papermill": {
     "duration": 0.039545,
     "end_time": "2024-07-24T16:47:12.012586",
     "exception": false,
     "start_time": "2024-07-24T16:47:11.973041",
     "status": "completed"
    },
    "tags": []
   },
   "source": [
    "* We learn logic behind simple neural network(logistic regression) and how to implement it.\n",
    "* Now that we have learned logic, we can use sklearn library which is easier than implementing all steps with hand for logistic regression.\n"
   ]
  },
  {
   "cell_type": "markdown",
   "id": "6d6d4b5e",
   "metadata": {
    "papermill": {
     "duration": 0.019393,
     "end_time": "2024-07-24T16:47:12.067699",
     "exception": false,
     "start_time": "2024-07-24T16:47:12.048306",
     "status": "completed"
    },
    "tags": []
   },
   "source": [
    "<a id=\"8\"></a> <br>\n",
    "## Logistic Regression with Sklearn\n",
    "* In sklearn library, there is a logistic regression method that ease implementing logistic regression.\n",
    "* I am not going to explain each parameter of logistic regression in sklear but if you want you can read from there http://scikit-learn.org/stable/modules/generated/sklearn.linear_model.LogisticRegression.html\n",
    "* The accuracies are different from what we find. Because logistic regression method use a lot of different feature that we do not use like different optimization parameters or regularization.\n",
    "* Lets make conclusion for logistic regression and continue with artificial neural network."
   ]
  },
  {
   "cell_type": "code",
   "execution_count": 16,
   "id": "7b38bce5",
   "metadata": {
    "execution": {
     "iopub.execute_input": "2024-07-24T16:47:12.108385Z",
     "iopub.status.busy": "2024-07-24T16:47:12.107978Z",
     "iopub.status.idle": "2024-07-24T16:47:12.918934Z",
     "shell.execute_reply": "2024-07-24T16:47:12.917425Z"
    },
    "papermill": {
     "duration": 0.835943,
     "end_time": "2024-07-24T16:47:12.923177",
     "exception": false,
     "start_time": "2024-07-24T16:47:12.087234",
     "status": "completed"
    },
    "tags": []
   },
   "outputs": [
    {
     "name": "stdout",
     "output_type": "stream",
     "text": [
      "test accuracy: 0.967741935483871\n",
      "train accuracy: 1.0\n"
     ]
    }
   ],
   "source": [
    "from sklearn import linear_model\n",
    "logreg = linear_model.LogisticRegression(random_state=42, max_iter=150)\n",
    "print(\"test accuracy: {}\".format(logreg.fit(x_train.T, y_train.T).score(x_test.T, y_test.T)))\n",
    "print(\"train accuracy: {}\".format(logreg.fit(x_train.T, y_train.T).score(x_train.T, y_train.T)))"
   ]
  },
  {
   "cell_type": "markdown",
   "id": "01d3f0d1",
   "metadata": {
    "papermill": {
     "duration": 0.040178,
     "end_time": "2024-07-24T16:47:13.002909",
     "exception": false,
     "start_time": "2024-07-24T16:47:12.962731",
     "status": "completed"
    },
    "tags": []
   },
   "source": [
    "<a id=\"9\"></a> <br>\n",
    "## Summary and Questions in Minds\n",
    "<font color='purple'>\n",
    "What we did at this first part:\n",
    "* Initialize parameters weight and bias\n",
    "* Forward propagation\n",
    "* Loss function\n",
    "* Cost function\n",
    "* Backward propagation (gradient descent)\n",
    "* Prediction with learnt parameters weight and bias\n",
    "* Logistic regression with sklearn\n",
    "\n",
    "<br> If you have any question up to this point ask me please bacause we will contruct artificial neural network on logistic regression.\n",
    "<br> HOMEWORK: Here is good place to stop and make practice. Your homework is that create your own logistic regression method and classify two different sign language digits. "
   ]
  },
  {
   "cell_type": "markdown",
   "id": "280a2d4e",
   "metadata": {
    "papermill": {
     "duration": 0.019124,
     "end_time": "2024-07-24T16:47:13.058334",
     "exception": false,
     "start_time": "2024-07-24T16:47:13.039210",
     "status": "completed"
    },
    "tags": []
   },
   "source": [
    "<a id=\"10\"></a> <br>\n",
    "# Artificial Neural Network (ANN)\n",
    "* It is also called deep neural network or deep learning.\n",
    "* **What is neural network:** It is basically taking logistic regression and repeating it at least 2 times.\n",
    "* In logistic regression, there are input and output layers. However, in neural network, there is at least one hidden layer between input and output layer.\n",
    "* **What is deep, in order to say \"deep\" how many layer do I need to have:** When I ask this question to my teacher, he said that \"\"Deep\" is a relative term; it of course refers to the \"depth\" of a network, meaning how many hidden layers it has. \"How deep is your swimming pool?\" could be 12 feet or it might be two feet; nevertheless, it still has a depth--it has the quality of \"deepness\". 32 years ago, I used two or three hidden layers. That was the limit for the specialized hardware of the day. Just a few years ago, 20 layers was considered pretty deep. In October, Andrew Ng mentioned 152 layers was (one of?) the biggest commercial networks he knew of. Last week, I talked to someone at a big, famous company who said he was using \"thousands\". So I prefer to just stick with \"How deep?\"\"\n",
    "* **Why it is called hidden:** Because hidden layer does not see inputs(training set)\n",
    "* For example you have input, one hidden and output layers. When someone ask you \"hey my friend how many layers do your neural network have?\" The answer is \"I have 2 layer neural network\". Because while computing layer number input layer is ignored. \n",
    "* Lets see 2 layer neural network: \n",
    "<a href=\"http://ibb.co/eF315x\"><img src=\"http://preview.ibb.co/dajVyH/9.jpg\" alt=\"9\" border=\"0\"></a>\n",
    "* Step by step we will learn this image.\n",
    "    * As you can see there is one hidden layer between input and output layers. And this hidden layer has 3 nodes. If yoube curious why I choose number of node 3, the answer is there is no reason, I only choose :). Number of node is hyperparameter like learning rate. Therefore we will see hyperparameters at the end of artificial neural network.\n",
    "    * Input and output layers do not change. They are same like logistic regression.\n",
    "    * In image, there is a tanh function that is unknown for you. It is a activation function like sigmoid function. Tanh activation function is better than sigmoid for hidden units bacause mean of its output is closer to zero so it centers the data better for the next layer. Also tanh activation function increase non linearity that cause our model learning better.\n",
    "    * As you can see with purple color there are two parts. Both parts are like logistic regression. The only difference is activation function, inputs and outputs.\n",
    "        * In logistic regression: input => output\n",
    "        * In 2 layer neural network: input => hidden layer => output. You can think that hidden layer is output of part 1 and input of part 2.\n",
    "* Thats all. We will follow the same path like logistic regression for 2 layer neural network."
   ]
  },
  {
   "cell_type": "markdown",
   "id": "f6d3bf19",
   "metadata": {
    "papermill": {
     "duration": 0.01931,
     "end_time": "2024-07-24T16:47:13.098283",
     "exception": false,
     "start_time": "2024-07-24T16:47:13.078973",
     "status": "completed"
    },
    "tags": []
   },
   "source": [
    "<a id=\"11\"></a> <br>\n",
    "## 2-Layer Neural Network\n",
    "* Size of layers and initializing parameters weights and bias\n",
    "* Forward propagation\n",
    "* Loss function and Cost function\n",
    "* Backward propagation\n",
    "* Update Parameters\n",
    "* Prediction with learnt parameters weight and bias\n",
    "* Create Model"
   ]
  },
  {
   "cell_type": "markdown",
   "id": "caedbe3e",
   "metadata": {
    "papermill": {
     "duration": 0.01887,
     "end_time": "2024-07-24T16:47:13.136246",
     "exception": false,
     "start_time": "2024-07-24T16:47:13.117376",
     "status": "completed"
    },
    "tags": []
   },
   "source": [
    "<a id=\"12\"></a> <br>\n",
    "## Size of layers and initializing parameters weights and bias\n",
    "* For x_train that has 348 sample $x^{(348)}$:\n",
    "$$z^{[1] (348)} =  W^{[1]} x^{(348)} + b^{[1] (348)}$$ \n",
    "$$a^{[1] (348)} = \\tanh(z^{[1] (348)})$$\n",
    "$$z^{[2] (348)} = W^{[2]} a^{[1] (348)} + b^{[2] (348)}$$\n",
    "$$\\hat{y}^{(348)} = a^{[2] (348)} = \\sigma(z^{ [2] (348)})$$\n",
    "\n",
    "* At logistic regression, we initialize weights 0.01 and bias 0. At this time, we initialize weights randomly. Because if we initialize parameters zero each neuron in the first hidden layer will perform the same comptation. Therefore, even after multiple iterartion of gradiet descent each neuron in the layer will be computing same things as other neurons. Therefore we initialize randomly. Also initial weights will be small. If they are very large initially, this will cause the inputs of the tanh to be very large, thus causing gradients to be close to zero. The optimization algorithm will be slow.\n",
    "* Bias can be zero initially."
   ]
  },
  {
   "cell_type": "code",
   "execution_count": 17,
   "id": "313e34c8",
   "metadata": {
    "execution": {
     "iopub.execute_input": "2024-07-24T16:47:13.176479Z",
     "iopub.status.busy": "2024-07-24T16:47:13.176031Z",
     "iopub.status.idle": "2024-07-24T16:47:13.184205Z",
     "shell.execute_reply": "2024-07-24T16:47:13.182817Z"
    },
    "papermill": {
     "duration": 0.031462,
     "end_time": "2024-07-24T16:47:13.186838",
     "exception": false,
     "start_time": "2024-07-24T16:47:13.155376",
     "status": "completed"
    },
    "tags": []
   },
   "outputs": [],
   "source": [
    "# intialize parameters and layer sizes\n",
    "def initialize_parameters_and_layer_sizes_NN(x_train, y_train):\n",
    "    parameters = {\"weight1\": np.random.randn(3,x_train.shape[0]) * 0.1,\n",
    "                  \"bias1\": np.zeros((3,1)),\n",
    "                  \"weight2\": np.random.randn(y_train.shape[0],3) * 0.1,\n",
    "                  \"bias2\": np.zeros((y_train.shape[0],1))}\n",
    "    return parameters"
   ]
  },
  {
   "cell_type": "markdown",
   "id": "3c8662b3",
   "metadata": {
    "papermill": {
     "duration": 0.018899,
     "end_time": "2024-07-24T16:47:13.225418",
     "exception": false,
     "start_time": "2024-07-24T16:47:13.206519",
     "status": "completed"
    },
    "tags": []
   },
   "source": [
    "<a id=\"13\"></a> <br>\n",
    "## Forward propagation\n",
    "* Forward propagation is almost same with logistic regression.\n",
    "* The only difference is we use tanh function and we make all process twice.\n",
    "* Also numpy has tanh function. So we do not need to implement it."
   ]
  },
  {
   "cell_type": "code",
   "execution_count": 18,
   "id": "9f761e16",
   "metadata": {
    "execution": {
     "iopub.execute_input": "2024-07-24T16:47:13.266687Z",
     "iopub.status.busy": "2024-07-24T16:47:13.266257Z",
     "iopub.status.idle": "2024-07-24T16:47:13.273788Z",
     "shell.execute_reply": "2024-07-24T16:47:13.272329Z"
    },
    "papermill": {
     "duration": 0.030866,
     "end_time": "2024-07-24T16:47:13.276302",
     "exception": false,
     "start_time": "2024-07-24T16:47:13.245436",
     "status": "completed"
    },
    "tags": []
   },
   "outputs": [],
   "source": [
    "def forward_propagation_NN(x_train, parameters):\n",
    "\n",
    "    Z1 = np.dot(parameters[\"weight1\"],x_train) +parameters[\"bias1\"]\n",
    "    A1 = np.tanh(Z1)\n",
    "    Z2 = np.dot(parameters[\"weight2\"],A1) + parameters[\"bias2\"]\n",
    "    A2 = sigmoid(Z2)\n",
    "\n",
    "    cache = {\"Z1\": Z1,\n",
    "             \"A1\": A1,\n",
    "             \"Z2\": Z2,\n",
    "             \"A2\": A2}\n",
    "    \n",
    "    return A2, cache"
   ]
  },
  {
   "cell_type": "markdown",
   "id": "2c056bc1",
   "metadata": {
    "papermill": {
     "duration": 0.018801,
     "end_time": "2024-07-24T16:47:13.315155",
     "exception": false,
     "start_time": "2024-07-24T16:47:13.296354",
     "status": "completed"
    },
    "tags": []
   },
   "source": [
    "<a id=\"14\"></a> <br>\n",
    "## Loss function and Cost function\n",
    "* Loss and cost functions are same with logistic regression\n",
    "* Cross entropy function\n",
    "<a href=\"https://imgbb.com/\"><img src=\"https://image.ibb.co/nyR9LU/as.jpg\" alt=\"as\" border=\"0\"></a><br />"
   ]
  },
  {
   "cell_type": "code",
   "execution_count": 19,
   "id": "b4909c27",
   "metadata": {
    "execution": {
     "iopub.execute_input": "2024-07-24T16:47:13.357472Z",
     "iopub.status.busy": "2024-07-24T16:47:13.356425Z",
     "iopub.status.idle": "2024-07-24T16:47:13.363072Z",
     "shell.execute_reply": "2024-07-24T16:47:13.361766Z"
    },
    "papermill": {
     "duration": 0.030461,
     "end_time": "2024-07-24T16:47:13.365719",
     "exception": false,
     "start_time": "2024-07-24T16:47:13.335258",
     "status": "completed"
    },
    "tags": []
   },
   "outputs": [],
   "source": [
    "# Compute cost\n",
    "def compute_cost_NN(A2,Y,parameters):\n",
    "    logprobs = np.multiply(np.log(A2),Y)\n",
    "    cost = -np.sum(logprobs)/Y.shape[1]\n",
    "    return cost"
   ]
  },
  {
   "cell_type": "markdown",
   "id": "ab0b37da",
   "metadata": {
    "papermill": {
     "duration": 0.018929,
     "end_time": "2024-07-24T16:47:13.403966",
     "exception": false,
     "start_time": "2024-07-24T16:47:13.385037",
     "status": "completed"
    },
    "tags": []
   },
   "source": [
    "<a id=\"15\"></a> <br>\n",
    "## Backward propagation\n",
    "* As you know backward propagation means derivative.\n",
    "* If you want to learn (as I said I cannot explain without talking bc it is little confusing), please watch video in youtube.\n",
    "* However the logic is same, lets write code."
   ]
  },
  {
   "cell_type": "code",
   "execution_count": 20,
   "id": "f301685a",
   "metadata": {
    "execution": {
     "iopub.execute_input": "2024-07-24T16:47:13.444514Z",
     "iopub.status.busy": "2024-07-24T16:47:13.443923Z",
     "iopub.status.idle": "2024-07-24T16:47:13.456978Z",
     "shell.execute_reply": "2024-07-24T16:47:13.455526Z"
    },
    "papermill": {
     "duration": 0.037768,
     "end_time": "2024-07-24T16:47:13.460905",
     "exception": false,
     "start_time": "2024-07-24T16:47:13.423137",
     "status": "completed"
    },
    "tags": []
   },
   "outputs": [],
   "source": [
    "# Backward Propagation\n",
    "def backward_propagation_NN(parameters, cache, X, Y):\n",
    "\n",
    "    dZ2 = cache[\"A2\"]-Y\n",
    "    dW2 = np.dot(dZ2,cache[\"A1\"].T)/X.shape[1]\n",
    "    db2 = np.sum(dZ2,axis =1,keepdims=True)/X.shape[1]\n",
    "    dZ1 = np.dot(parameters[\"weight2\"].T,dZ2)*(1 - np.power(cache[\"A1\"], 2))\n",
    "    dW1 = np.dot(dZ1,X.T)/X.shape[1]\n",
    "    db1 = np.sum(dZ1,axis =1,keepdims=True)/X.shape[1]\n",
    "    grads = {\"dweight1\": dW1,\n",
    "             \"dbias1\": db1,\n",
    "             \"dweight2\": dW2,\n",
    "             \"dbias2\": db2}\n",
    "    return grads"
   ]
  },
  {
   "cell_type": "markdown",
   "id": "30d22890",
   "metadata": {
    "papermill": {
     "duration": 0.021003,
     "end_time": "2024-07-24T16:47:13.509946",
     "exception": false,
     "start_time": "2024-07-24T16:47:13.488943",
     "status": "completed"
    },
    "tags": []
   },
   "source": [
    "<a id=\"16\"></a> <br>\n",
    "## Update Parameters \n",
    "* Updating parameters also same with logistic regression.\n",
    "* We actually do alot of work with logistic regression"
   ]
  },
  {
   "cell_type": "code",
   "execution_count": 21,
   "id": "eab878f6",
   "metadata": {
    "execution": {
     "iopub.execute_input": "2024-07-24T16:47:13.550911Z",
     "iopub.status.busy": "2024-07-24T16:47:13.550443Z",
     "iopub.status.idle": "2024-07-24T16:47:13.557946Z",
     "shell.execute_reply": "2024-07-24T16:47:13.556517Z"
    },
    "papermill": {
     "duration": 0.031162,
     "end_time": "2024-07-24T16:47:13.560688",
     "exception": false,
     "start_time": "2024-07-24T16:47:13.529526",
     "status": "completed"
    },
    "tags": []
   },
   "outputs": [],
   "source": [
    "# update parameters\n",
    "def update_parameters_NN(parameters, grads, learning_rate = 0.01):\n",
    "    parameters = {\"weight1\": parameters[\"weight1\"]-learning_rate*grads[\"dweight1\"],\n",
    "                  \"bias1\": parameters[\"bias1\"]-learning_rate*grads[\"dbias1\"],\n",
    "                  \"weight2\": parameters[\"weight2\"]-learning_rate*grads[\"dweight2\"],\n",
    "                  \"bias2\": parameters[\"bias2\"]-learning_rate*grads[\"dbias2\"]}\n",
    "    \n",
    "    return parameters"
   ]
  },
  {
   "cell_type": "markdown",
   "id": "9123ddca",
   "metadata": {
    "papermill": {
     "duration": 0.022329,
     "end_time": "2024-07-24T16:47:13.604807",
     "exception": false,
     "start_time": "2024-07-24T16:47:13.582478",
     "status": "completed"
    },
    "tags": []
   },
   "source": [
    "<a id=\"17\"></a> <br>\n",
    "## Prediction with learnt parameters weight and bias\n",
    "* Lets write predict method that is like logistic regression."
   ]
  },
  {
   "cell_type": "code",
   "execution_count": 22,
   "id": "8b2c14b5",
   "metadata": {
    "execution": {
     "iopub.execute_input": "2024-07-24T16:47:13.646260Z",
     "iopub.status.busy": "2024-07-24T16:47:13.645827Z",
     "iopub.status.idle": "2024-07-24T16:47:13.653746Z",
     "shell.execute_reply": "2024-07-24T16:47:13.652385Z"
    },
    "papermill": {
     "duration": 0.032665,
     "end_time": "2024-07-24T16:47:13.656696",
     "exception": false,
     "start_time": "2024-07-24T16:47:13.624031",
     "status": "completed"
    },
    "tags": []
   },
   "outputs": [],
   "source": [
    "# prediction\n",
    "def predict_NN(parameters,x_test):\n",
    "    # x_test is a input for forward propagation\n",
    "    A2, cache = forward_propagation_NN(x_test,parameters)\n",
    "    Y_prediction = np.zeros((1,x_test.shape[1]))\n",
    "    # if z is bigger than 0.5, our prediction is sign one (y_head=1),\n",
    "    # if z is smaller than 0.5, our prediction is sign zero (y_head=0),\n",
    "    for i in range(A2.shape[1]):\n",
    "        if A2[0,i]<= 0.5:\n",
    "            Y_prediction[0,i] = 0\n",
    "        else:\n",
    "            Y_prediction[0,i] = 1\n",
    "\n",
    "    return Y_prediction"
   ]
  },
  {
   "cell_type": "markdown",
   "id": "382002bd",
   "metadata": {
    "papermill": {
     "duration": 0.020047,
     "end_time": "2024-07-24T16:47:13.696779",
     "exception": false,
     "start_time": "2024-07-24T16:47:13.676732",
     "status": "completed"
    },
    "tags": []
   },
   "source": [
    "<a id=\"18\"></a> <br>\n",
    "## Create Model\n",
    "* Lets put them all together"
   ]
  },
  {
   "cell_type": "code",
   "execution_count": 23,
   "id": "787bb546",
   "metadata": {
    "execution": {
     "iopub.execute_input": "2024-07-24T16:47:13.743936Z",
     "iopub.status.busy": "2024-07-24T16:47:13.743380Z",
     "iopub.status.idle": "2024-07-24T16:47:34.427828Z",
     "shell.execute_reply": "2024-07-24T16:47:34.426373Z"
    },
    "papermill": {
     "duration": 20.713064,
     "end_time": "2024-07-24T16:47:34.430542",
     "exception": false,
     "start_time": "2024-07-24T16:47:13.717478",
     "status": "completed"
    },
    "tags": []
   },
   "outputs": [
    {
     "name": "stdout",
     "output_type": "stream",
     "text": [
      "Cost after iteration 0: 0.358934\n",
      "Cost after iteration 100: 0.337419\n",
      "Cost after iteration 200: 0.320159\n",
      "Cost after iteration 300: 0.285414\n",
      "Cost after iteration 400: 0.241582\n",
      "Cost after iteration 500: 0.201608\n",
      "Cost after iteration 600: 0.267155\n",
      "Cost after iteration 700: 0.147252\n",
      "Cost after iteration 800: 0.128635\n",
      "Cost after iteration 900: 0.113614\n",
      "Cost after iteration 1000: 0.101008\n",
      "Cost after iteration 1100: 0.090078\n",
      "Cost after iteration 1200: 0.080535\n",
      "Cost after iteration 1300: 0.072200\n",
      "Cost after iteration 1400: 0.064877\n",
      "Cost after iteration 1500: 0.058548\n",
      "Cost after iteration 1600: 0.053286\n",
      "Cost after iteration 1700: 0.048963\n",
      "Cost after iteration 1800: 0.045349\n",
      "Cost after iteration 1900: 0.042274\n",
      "Cost after iteration 2000: 0.039633\n",
      "Cost after iteration 2100: 0.037364\n",
      "Cost after iteration 2200: 0.035430\n",
      "Cost after iteration 2300: 0.033753\n",
      "Cost after iteration 2400: 0.032063\n"
     ]
    },
    {
     "data": {
      "image/png": "[encoded data removed]",
      "text/plain": [
       "<Figure size 640x480 with 1 Axes>"
      ]
     },
     "metadata": {},
     "output_type": "display_data"
    },
    {
     "name": "stdout",
     "output_type": "stream",
     "text": [
      "train accuracy: 99.71264367816092 %\n",
      "test accuracy: 96.7741935483871 %\n"
     ]
    }
   ],
   "source": [
    "# 2 - Layer neural network\n",
    "def two_layer_neural_network(x_train, y_train,x_test,y_test, num_iterations):\n",
    "    cost_list = []\n",
    "    index_list = []\n",
    "    #initialize parameters and layer sizes\n",
    "    parameters = initialize_parameters_and_layer_sizes_NN(x_train, y_train)\n",
    "\n",
    "    for i in range(0, num_iterations):\n",
    "         # forward propagation\n",
    "        A2, cache = forward_propagation_NN(x_train,parameters)\n",
    "        # compute cost\n",
    "        cost = compute_cost_NN(A2, y_train, parameters)\n",
    "         # backward propagation\n",
    "        grads = backward_propagation_NN(parameters, cache, x_train, y_train)\n",
    "         # update parameters\n",
    "        parameters = update_parameters_NN(parameters, grads)\n",
    "        \n",
    "        if i % 100 == 0:\n",
    "            cost_list.append(cost)\n",
    "            index_list.append(i)\n",
    "            print (\"Cost after iteration %i: %f\" %(i, cost))\n",
    "    plt.plot(index_list,cost_list)\n",
    "    plt.xticks(index_list,rotation='vertical')\n",
    "    plt.xlabel(\"Number of Iterarion\")\n",
    "    plt.ylabel(\"Cost\")\n",
    "    plt.show()\n",
    "    \n",
    "    # predict\n",
    "    y_prediction_test = predict_NN(parameters,x_test)\n",
    "    y_prediction_train = predict_NN(parameters,x_train)\n",
    "\n",
    "    # Print train/test Errors\n",
    "    print(\"train accuracy: {} %\".format(100 - np.mean(np.abs(y_prediction_train - y_train)) * 100))\n",
    "    print(\"test accuracy: {} %\".format(100 - np.mean(np.abs(y_prediction_test - y_test)) * 100))\n",
    "    return parameters\n",
    "\n",
    "parameters = two_layer_neural_network(x_train, y_train,x_test,y_test, num_iterations=2500)"
   ]
  },
  {
   "cell_type": "markdown",
   "id": "23cdddb1",
   "metadata": {
    "papermill": {
     "duration": 0.045608,
     "end_time": "2024-07-24T16:47:34.513163",
     "exception": false,
     "start_time": "2024-07-24T16:47:34.467555",
     "status": "completed"
    },
    "tags": []
   },
   "source": [
    "<font color='purple'>\n",
    "Up to this point we create 2 layer neural network and learn how to implement\n",
    "* Size of layers and initializing parameters weights and bias\n",
    "* Forward propagation\n",
    "* Loss function and Cost function\n",
    "* Backward propagation\n",
    "* Update Parameters\n",
    "* Prediction with learnt parameters weight and bias\n",
    "* Create Model\n",
    "\n",
    "<br> Now lets learn how to implement L layer neural network with keras."
   ]
  },
  {
   "cell_type": "markdown",
   "id": "d0f739bc",
   "metadata": {
    "papermill": {
     "duration": 0.021825,
     "end_time": "2024-07-24T16:47:34.573104",
     "exception": false,
     "start_time": "2024-07-24T16:47:34.551279",
     "status": "completed"
    },
    "tags": []
   },
   "source": [
    "<a id=\"19\"></a> <br>\n",
    "# L Layer Neural Network\n",
    "* **What happens if number of hidden layer increase:** Earlier layerls can detect simple features.\n",
    "* When model composing simple features together in later layers of neural network that it can learn more and more complex functions. For example, lets look at our sign one.\n",
    "<a href=\"http://ibb.co/dNgDJH\"><img src=\"http://preview.ibb.co/mpD4Qx/10.jpg\" alt=\"10\" border=\"0\"></a>\n",
    "* For example first hidden layer learns edges or basic shapes like line. When number of layer increase, layers start to learn more complex things like convex shapes or characteristic features like forefinger.\n",
    "* Lets create our model\n",
    "    * There are some hyperparameters we need to choose like learning rate, number of iterations, number of hidden layer, number of hidden units, type of activation functions. Woww it is too much :)\n",
    "    * These hyperparameters can be chosen intiutively if you spend a lot of time in deep learning world.\n",
    "    * However, if you do not spend too much time, the best way is to google it but it is not necessary. You need to try hyperparameters to find best one.\n",
    "    * In this tutorial our model will have 2 hidden layer with 8 and4 nodes, respectively. Because when number of hidden layer and node increase, it takes too much time. \n",
    "    * As a activation function we will use relu(first hidden layer), relu(second hidden layer) and sigmoid(output layer) respectively.\n",
    "    * Number of iteration will be 100.\n",
    "* Our way is same with previous parts however as you learn the logic behind deep learning, we can ease our job and use keras library for deeper neural networks.\n",
    "* First lets reshape our x_train, x_test, y_train and y_test.\n",
    "\n",
    "    \n",
    "    "
   ]
  },
  {
   "cell_type": "code",
   "execution_count": 24,
   "id": "0539090a",
   "metadata": {
    "execution": {
     "iopub.execute_input": "2024-07-24T16:47:34.619755Z",
     "iopub.status.busy": "2024-07-24T16:47:34.618749Z",
     "iopub.status.idle": "2024-07-24T16:47:34.624778Z",
     "shell.execute_reply": "2024-07-24T16:47:34.623430Z"
    },
    "papermill": {
     "duration": 0.032114,
     "end_time": "2024-07-24T16:47:34.627208",
     "exception": false,
     "start_time": "2024-07-24T16:47:34.595094",
     "status": "completed"
    },
    "tags": []
   },
   "outputs": [],
   "source": [
    "# reshaping\n",
    "x_train, y_train, x_test, y_test = x_train.T, y_train.T, x_test.T, y_test.T"
   ]
  },
  {
   "cell_type": "markdown",
   "id": "02ce0ad3",
   "metadata": {
    "papermill": {
     "duration": 0.021974,
     "end_time": "2024-07-24T16:47:34.672648",
     "exception": false,
     "start_time": "2024-07-24T16:47:34.650674",
     "status": "completed"
    },
    "tags": []
   },
   "source": [
    "<a id=\"22\"></a> <br>\n",
    "## Implementing with keras library\n",
    "Lets look at some parameters of keras library:\n",
    "* units: output dimensions of node\n",
    "* kernel_initializer: to initialize weights\n",
    "* activation: activation function, we use relu\n",
    "* input_dim: input dimension that is number of pixels in our images (4096 px)\n",
    "* optimizer: we use adam optimizer\n",
    "    * Adam is one of the most effective optimization algorithms for training neural networks.\n",
    "    * Some advantages of Adam is that relatively low memory requirements and usually works well even with little tuning of hyperparameters\n",
    "* loss: Cost function is same. By the way the name of the cost function is cross-entropy cost function that we use previous parts.\n",
    "$$J = - \\frac{1}{m} \\sum\\limits_{i = 0}^{m} \\large\\left(\\small y^{(i)}\\log\\left(a^{[2] (i)}\\right) + (1-y^{(i)})\\log\\left(1- a^{[2] (i)}\\right)  \\large  \\right) \\small \\tag{6}$$\n",
    "* metrics: it is accuracy.\n",
    "* cross_val_score: use cross validation. \n",
    "* epochs: number of iteration"
   ]
  },
  {
   "cell_type": "markdown",
   "id": "74a51fcf",
   "metadata": {
    "papermill": {
     "duration": 0.021533,
     "end_time": "2024-07-24T16:47:34.716140",
     "exception": false,
     "start_time": "2024-07-24T16:47:34.694607",
     "status": "completed"
    },
    "tags": []
   },
   "source": [
    "<a id=\"23\"></a> <br>\n",
    "## Artificial Neural Network with Pytorch library.\n",
    "* Pytorch is one of the frame works like keras.\n",
    "* It eases implementing and constructing deep learning blocks.  "
   ]
  },
  {
   "cell_type": "markdown",
   "id": "fc5db20b",
   "metadata": {
    "papermill": {
     "duration": 0.021754,
     "end_time": "2024-07-24T16:47:34.759845",
     "exception": false,
     "start_time": "2024-07-24T16:47:34.738091",
     "status": "completed"
    },
    "tags": []
   },
   "source": [
    "<a id=\"24\"></a> <br>\n",
    "## Convolutional Neural Network with Pytorch library.\n",
    "* Pytorch is one of the frame works like keras.\n",
    "* It eases implementing and constructing deep learning blocks. "
   ]
  },
  {
   "cell_type": "markdown",
   "id": "25f3ae30",
   "metadata": {
    "papermill": {
     "duration": 0.022814,
     "end_time": "2024-07-24T16:47:34.806500",
     "exception": false,
     "start_time": "2024-07-24T16:47:34.783686",
     "status": "completed"
    },
    "tags": []
   },
   "source": [
    "<a id=\"25\"></a> <br>\n",
    "## Recurrent Neural Network with Pytorch library.\n",
    "* Pytorch is one of the frame works like keras.\n",
    "* It eases implementing and constructing deep learning blocks.  "
   ]
  },
  {
   "cell_type": "markdown",
   "id": "9d85d825",
   "metadata": {
    "papermill": {
     "duration": 0.023209,
     "end_time": "2024-07-24T16:47:34.852594",
     "exception": false,
     "start_time": "2024-07-24T16:47:34.829385",
     "status": "completed"
    },
    "tags": []
   },
   "source": [
    "<a id=\"20\"></a> <br>\n",
    "# Conclusion\n",
    "* First of all thanks for this data set.\n",
    "* If you see my wrong spelling (it can be so much) please ignore them :)\n",
    "* This tutorial is shallow, if you want more detail about some concepts you can comment.\n",
    "* If you think that I cannot explain some concepts please learn it from youtube(especially Andrew) and then continue.\n",
    "* If you do not understand some thing that is related with python or machine learning please check my other tutorials\n",
    "    * Data Science\n",
    "    * Machine learning\n",
    "* Now I hope you understand and learn what is deep learning. However, we do not write long codes for each time to build deep learning model. Therefore, there are a deep learning frame works to build deep learning models fast and easy.\n",
    "    * Artificial Neural Network\n",
    "    * Convolutional Neural Network\n",
    "    * Recurrent Neural Network\n",
    "     \n",
    "\n",
    "### <br> If you like it, please upvote :)\n",
    "## <br> If you have any question, I will be appreciate to hear it.\n"
   ]
  }
 ],
 "metadata": {
  "kaggle": {
   "accelerator": "none",
   "dataSources": [
    {
     "datasetId": 7836,
     "sourceId": 11071,
     "sourceType": "datasetVersion"
    }
   ],
   "dockerImageVersionId": 30746,
   "isGpuEnabled": false,
   "isInternetEnabled": true,
   "language": "python",
   "sourceType": "notebook"
  },
  "kernelspec": {
   "display_name": "Python 3",
   "language": "python",
   "name": "python3"
  },
  "language_info": {
   "codemirror_mode": {
    "name": "ipython",
    "version": 3
   },
   "file_extension": ".py",
   "mimetype": "text/x-python",
   "name": "python",
   "nbconvert_exporter": "python",
   "pygments_lexer": "ipython3",
   "version": "3.10.13"
  },
  "papermill": {
   "default_parameters": {},
   "duration": 32.753162,
   "end_time": "2024-07-24T16:47:35.498046",
   "environment_variables": {},
   "exception": null,
   "input_path": "__notebook__.ipynb",
   "output_path": "__notebook__.ipynb",
   "parameters": {},
   "start_time": "2024-07-24T16:47:02.744884",
   "version": "2.5.0"
  }
 },
 "nbformat": 4,
 "nbformat_minor": 5
}
